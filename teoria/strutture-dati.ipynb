{
 "cells": [
  {
   "cell_type": "markdown",
   "id": "informed-court",
   "metadata": {},
   "source": [
    "# Strutture dati"
   ]
  },
  {
   "cell_type": "markdown",
   "id": "liquid-float",
   "metadata": {},
   "source": [
    "Le strutture dati principali sono:\n",
    "\n",
    "- vettori\n",
    "- matrici\n",
    "- liste\n",
    "- array\n",
    "- data frame"
   ]
  },
  {
   "cell_type": "markdown",
   "id": "natural-appendix",
   "metadata": {},
   "source": [
    "## Vettori\n",
    "\n",
    "Collezione ordinata di celle dello stesso tipo; ogni vettore ha un tipo, una lunghezza ed un insieme di attributi o metadati; i tipi di vettore sono:\n",
    "\n",
    "- integer\n",
    "- logical\n",
    "- double\n",
    "- complex\n",
    "- character\n",
    "- raw"
   ]
  },
  {
   "cell_type": "code",
   "execution_count": 8,
   "id": "removable-donna",
   "metadata": {},
   "outputs": [
    {
     "data": {
      "text/html": [
       "'numeric'"
      ],
      "text/latex": [
       "'numeric'"
      ],
      "text/markdown": [
       "'numeric'"
      ],
      "text/plain": [
       "[1] \"numeric\""
      ]
     },
     "metadata": {},
     "output_type": "display_data"
    },
    {
     "data": {
      "text/html": [
       "'numeric'"
      ],
      "text/latex": [
       "'numeric'"
      ],
      "text/markdown": [
       "'numeric'"
      ],
      "text/plain": [
       "[1] \"numeric\""
      ]
     },
     "metadata": {},
     "output_type": "display_data"
    },
    {
     "data": {
      "text/html": [
       "'character'"
      ],
      "text/latex": [
       "'character'"
      ],
      "text/markdown": [
       "'character'"
      ],
      "text/plain": [
       "[1] \"character\""
      ]
     },
     "metadata": {},
     "output_type": "display_data"
    },
    {
     "data": {
      "text/html": [
       "'logical'"
      ],
      "text/latex": [
       "'logical'"
      ],
      "text/markdown": [
       "'logical'"
      ],
      "text/plain": [
       "[1] \"logical\""
      ]
     },
     "metadata": {},
     "output_type": "display_data"
    }
   ],
   "source": [
    "integer <- 1L\n",
    "double <- 1.2\n",
    "character <- 'ciao'\n",
    "boolean <- TRUE\n",
    "\n",
    "mode(integer)\n",
    "mode(double)\n",
    "mode(complex)\n",
    "mode(boolean)"
   ]
  },
  {
   "cell_type": "markdown",
   "id": "complimentary-memory",
   "metadata": {},
   "source": [
    "Alle singole variabili sembra venire assegnato uno scalare, mentre in realtá sono vettori di lunghezza 1"
   ]
  },
  {
   "cell_type": "code",
   "execution_count": 11,
   "id": "automated-termination",
   "metadata": {},
   "outputs": [
    {
     "data": {
      "text/html": [
       "1"
      ],
      "text/latex": [
       "1"
      ],
      "text/markdown": [
       "1"
      ],
      "text/plain": [
       "[1] 1"
      ]
     },
     "metadata": {},
     "output_type": "display_data"
    }
   ],
   "source": [
    "length(character)"
   ]
  },
  {
   "cell_type": "markdown",
   "id": "coated-valve",
   "metadata": {},
   "source": [
    "### function `c`\n",
    "\n",
    "La funzione `c` permette di combinare un insieme di valori creando un vettore"
   ]
  },
  {
   "cell_type": "code",
   "execution_count": 18,
   "id": "resident-prospect",
   "metadata": {},
   "outputs": [
    {
     "data": {
      "text/html": [
       "<style>\n",
       ".list-inline {list-style: none; margin:0; padding: 0}\n",
       ".list-inline>li {display: inline-block}\n",
       ".list-inline>li:not(:last-child)::after {content: \"\\00b7\"; padding: 0 .5ex}\n",
       "</style>\n",
       "<ol class=list-inline><li>1</li><li>2</li><li>3</li></ol>\n"
      ],
      "text/latex": [
       "\\begin{enumerate*}\n",
       "\\item 1\n",
       "\\item 2\n",
       "\\item 3\n",
       "\\end{enumerate*}\n"
      ],
      "text/markdown": [
       "1. 1\n",
       "2. 2\n",
       "3. 3\n",
       "\n",
       "\n"
      ],
      "text/plain": [
       "[1] 1 2 3"
      ]
     },
     "metadata": {},
     "output_type": "display_data"
    },
    {
     "data": {
      "text/html": [
       "<style>\n",
       ".dl-inline {width: auto; margin:0; padding: 0}\n",
       ".dl-inline>dt, .dl-inline>dd {float: none; width: auto; display: inline-block}\n",
       ".dl-inline>dt::after {content: \":\\0020\"; padding-right: .5ex}\n",
       ".dl-inline>dt:not(:first-of-type) {padding-left: .5ex}\n",
       "</style><dl class=dl-inline><dt>1</dt><dd>1</dd><dt>2</dt><dd>2</dd><dt>3</dt><dd>3</dd><dt>4</dt><dd>4</dd><dt>5</dt><dd>5</dd><dt>elemento_a</dt><dd>10</dd><dt>elemento_b</dt><dd>11</dd></dl>\n"
      ],
      "text/latex": [
       "\\begin{description*}\n",
       "\\item[1] 1\n",
       "\\item[2] 2\n",
       "\\item[3] 3\n",
       "\\item[4] 4\n",
       "\\item[5] 5\n",
       "\\item[elemento\\textbackslash{}\\_a] 10\n",
       "\\item[elemento\\textbackslash{}\\_b] 11\n",
       "\\end{description*}\n"
      ],
      "text/markdown": [
       "1\n",
       ":   12\n",
       ":   23\n",
       ":   34\n",
       ":   45\n",
       ":   5elemento_a\n",
       ":   10elemento_b\n",
       ":   11\n",
       "\n"
      ],
      "text/plain": [
       "                                                       elemento_a elemento_b \n",
       "         1          2          3          4          5         10         11 "
      ]
     },
     "metadata": {},
     "output_type": "display_data"
    }
   ],
   "source": [
    "vettore1 <- c(1,2,3)\n",
    "vettore1\n",
    "\n",
    "vettore2 <- c(1:5, elemento_a=10, elemento_b=11)\n",
    "vettore2"
   ]
  },
  {
   "cell_type": "markdown",
   "id": "double-armenia",
   "metadata": {},
   "source": [
    "#### Coercizione implicita\n",
    "\n",
    "Tutti gli elementi dell'array devono essere dello stesso tipo; di conseguenza all'interno della funzione `c` avviene una coercizione implicita in cui i valori di tipo diverso vengono adattati al tipo piú adatto"
   ]
  },
  {
   "cell_type": "code",
   "execution_count": 19,
   "id": "textile-patch",
   "metadata": {},
   "outputs": [],
   "source": [
    "vettore3 <- c(1,2,'3')   # tutti gli elementi vengono convertiti in character\n",
    "vettore4 <- c(TRUE, 1)   # tutti gli elementi vengono convertiti in numerici"
   ]
  },
  {
   "cell_type": "markdown",
   "id": "requested-heavy",
   "metadata": {},
   "source": [
    "### Proprietá dei vettori"
   ]
  },
  {
   "cell_type": "code",
   "execution_count": 29,
   "id": "statistical-metro",
   "metadata": {},
   "outputs": [
    {
     "data": {
      "text/html": [
       "'character'"
      ],
      "text/latex": [
       "'character'"
      ],
      "text/markdown": [
       "'character'"
      ],
      "text/plain": [
       "[1] \"character\""
      ]
     },
     "metadata": {},
     "output_type": "display_data"
    },
    {
     "data": {
      "text/html": [
       "3"
      ],
      "text/latex": [
       "3"
      ],
      "text/markdown": [
       "3"
      ],
      "text/plain": [
       "[1] 3"
      ]
     },
     "metadata": {},
     "output_type": "display_data"
    },
    {
     "data": {
      "text/html": [
       "<strong>$attributo_a</strong> = 1"
      ],
      "text/latex": [
       "\\textbf{\\$attributo\\_a} = 1"
      ],
      "text/markdown": [
       "**$attributo_a** = 1"
      ],
      "text/plain": [
       "$attributo_a\n",
       "[1] 1\n"
      ]
     },
     "metadata": {},
     "output_type": "display_data"
    },
    {
     "data": {
      "text/html": [
       "1"
      ],
      "text/latex": [
       "1"
      ],
      "text/markdown": [
       "1"
      ],
      "text/plain": [
       "[1] 1"
      ]
     },
     "metadata": {},
     "output_type": "display_data"
    }
   ],
   "source": [
    "typeof(vettore3)                    # tipo del vettore\n",
    "length(vettore3)                    # lunghezza del vettore\n",
    "\n",
    "attr(vettore3, 'attributo_a') <- a\n",
    "attributes(vettore3)                # attributi del vettore\n",
    "attr(vettore3, 'attributo_a')       # accesso al valore dell'attributo"
   ]
  },
  {
   "cell_type": "markdown",
   "id": "rental-secret",
   "metadata": {},
   "source": [
    "Esistono 3 attributi speciali:"
   ]
  },
  {
   "cell_type": "code",
   "execution_count": 44,
   "id": "internal-stations",
   "metadata": {},
   "outputs": [
    {
     "data": {
      "text/html": [
       "<style>\n",
       ".list-inline {list-style: none; margin:0; padding: 0}\n",
       ".list-inline>li {display: inline-block}\n",
       ".list-inline>li:not(:last-child)::after {content: \"\\00b7\"; padding: 0 .5ex}\n",
       "</style>\n",
       "<ol class=list-inline><li>''</li><li>''</li><li>''</li><li>''</li><li>''</li><li>'elemento_a'</li><li>'elemento_b'</li></ol>\n"
      ],
      "text/latex": [
       "\\begin{enumerate*}\n",
       "\\item ''\n",
       "\\item ''\n",
       "\\item ''\n",
       "\\item ''\n",
       "\\item ''\n",
       "\\item 'elemento\\_a'\n",
       "\\item 'elemento\\_b'\n",
       "\\end{enumerate*}\n"
      ],
      "text/markdown": [
       "1. ''\n",
       "2. ''\n",
       "3. ''\n",
       "4. ''\n",
       "5. ''\n",
       "6. 'elemento_a'\n",
       "7. 'elemento_b'\n",
       "\n",
       "\n"
      ],
      "text/plain": [
       "[1] \"\"           \"\"           \"\"           \"\"           \"\"          \n",
       "[6] \"elemento_a\" \"elemento_b\""
      ]
     },
     "metadata": {},
     "output_type": "display_data"
    },
    {
     "data": {
      "text/html": [
       "<style>\n",
       ".list-inline {list-style: none; margin:0; padding: 0}\n",
       ".list-inline>li {display: inline-block}\n",
       ".list-inline>li:not(:last-child)::after {content: \"\\00b7\"; padding: 0 .5ex}\n",
       "</style>\n",
       "<ol class=list-inline><li>''</li><li>''</li><li>''</li><li>''</li><li>''</li><li>'elemento_a'</li><li>'elemento_b'</li></ol>\n"
      ],
      "text/latex": [
       "\\begin{enumerate*}\n",
       "\\item ''\n",
       "\\item ''\n",
       "\\item ''\n",
       "\\item ''\n",
       "\\item ''\n",
       "\\item 'elemento\\_a'\n",
       "\\item 'elemento\\_b'\n",
       "\\end{enumerate*}\n"
      ],
      "text/markdown": [
       "1. ''\n",
       "2. ''\n",
       "3. ''\n",
       "4. ''\n",
       "5. ''\n",
       "6. 'elemento_a'\n",
       "7. 'elemento_b'\n",
       "\n",
       "\n"
      ],
      "text/plain": [
       "[1] \"\"           \"\"           \"\"           \"\"           \"\"          \n",
       "[6] \"elemento_a\" \"elemento_b\""
      ]
     },
     "metadata": {},
     "output_type": "display_data"
    },
    {
     "data": {
      "text/html": [
       "'character'"
      ],
      "text/latex": [
       "'character'"
      ],
      "text/markdown": [
       "'character'"
      ],
      "text/plain": [
       "[1] \"character\""
      ]
     },
     "metadata": {},
     "output_type": "display_data"
    },
    {
     "name": "stdout",
     "output_type": "stream",
     "text": [
      " chr [1:3] \"1\" \"2\" \"3\"\n",
      " - attr(*, \"attributo_a\")= num 1\n"
     ]
    }
   ],
   "source": [
    "names(vettore2)                     # attribuisce un'etichetta agli elementi del vettore\n",
    "attr(vettore2, 'names')\n",
    "\n",
    "class(vettore3)                     # permette ad R di implementare una logica orientata agli oggetti\n",
    "str(vettore3)                       # visualizza la struttura della variabile"
   ]
  },
  {
   "cell_type": "markdown",
   "id": "lovely-original",
   "metadata": {},
   "source": [
    "### Valori NA\n",
    "\n",
    "`NA` é una costante che rappresenta un valore mancante; questo valore influenza i risultati delle operazioni logica e matematiche"
   ]
  },
  {
   "cell_type": "code",
   "execution_count": 40,
   "id": "bronze-divide",
   "metadata": {},
   "outputs": [
    {
     "data": {
      "text/html": [
       "<style>\n",
       ".list-inline {list-style: none; margin:0; padding: 0}\n",
       ".list-inline>li {display: inline-block}\n",
       ".list-inline>li:not(:last-child)::after {content: \"\\00b7\"; padding: 0 .5ex}\n",
       "</style>\n",
       "<ol class=list-inline><li>FALSE</li><li>FALSE</li><li>TRUE</li></ol>\n"
      ],
      "text/latex": [
       "\\begin{enumerate*}\n",
       "\\item FALSE\n",
       "\\item FALSE\n",
       "\\item TRUE\n",
       "\\end{enumerate*}\n"
      ],
      "text/markdown": [
       "1. FALSE\n",
       "2. FALSE\n",
       "3. TRUE\n",
       "\n",
       "\n"
      ],
      "text/plain": [
       "[1] FALSE FALSE  TRUE"
      ]
     },
     "metadata": {},
     "output_type": "display_data"
    }
   ],
   "source": [
    "vettoreIncompleto <- c(1,2,NA)\n",
    "is.na(vettoreIncompleto)"
   ]
  },
  {
   "cell_type": "markdown",
   "id": "compatible-fossil",
   "metadata": {},
   "source": [
    "## Matrici\n",
    "\n",
    "E' una collezione bidimensionale di celle dello stesso tipo, un'array di 2 dimensioni; nella realtá si tratta di un vettore con attributo `dim` e con lunghezza `righe * colonne`"
   ]
  },
  {
   "cell_type": "code",
   "execution_count": 50,
   "id": "industrial-semiconductor",
   "metadata": {},
   "outputs": [
    {
     "data": {
      "text/html": [
       "<table>\n",
       "<caption>A matrix: 3 × 3 of type dbl</caption>\n",
       "<tbody>\n",
       "\t<tr><td>1</td><td>4</td><td>7</td></tr>\n",
       "\t<tr><td>2</td><td>5</td><td>8</td></tr>\n",
       "\t<tr><td>3</td><td>6</td><td>9</td></tr>\n",
       "</tbody>\n",
       "</table>\n"
      ],
      "text/latex": [
       "A matrix: 3 × 3 of type dbl\n",
       "\\begin{tabular}{lll}\n",
       "\t 1 & 4 & 7\\\\\n",
       "\t 2 & 5 & 8\\\\\n",
       "\t 3 & 6 & 9\\\\\n",
       "\\end{tabular}\n"
      ],
      "text/markdown": [
       "\n",
       "A matrix: 3 × 3 of type dbl\n",
       "\n",
       "| 1 | 4 | 7 |\n",
       "| 2 | 5 | 8 |\n",
       "| 3 | 6 | 9 |\n",
       "\n"
      ],
      "text/plain": [
       "     [,1] [,2] [,3]\n",
       "[1,] 1    4    7   \n",
       "[2,] 2    5    8   \n",
       "[3,] 3    6    9   "
      ]
     },
     "metadata": {},
     "output_type": "display_data"
    }
   ],
   "source": [
    "matrice1 <- matrix(c(1,2,3,4,5,6,7,8,9), nrow=3, ncol=3)\n",
    "matrice1"
   ]
  },
  {
   "cell_type": "code",
   "execution_count": 63,
   "id": "foreign-seeking",
   "metadata": {},
   "outputs": [
    {
     "name": "stdout",
     "output_type": "stream",
     "text": [
      " num [1:3, 1:3] 1 2 3 4 5 6 7 8 9\n",
      " - attr(*, \"dimnames\")=List of 2\n",
      "  ..$ : chr [1:3] \"d\" \"e\" \"f\"\n",
      "  ..$ : chr [1:3] \"a\" \"b\" \"c\"\n"
     ]
    },
    {
     "data": {
      "text/html": [
       "<style>\n",
       ".list-inline {list-style: none; margin:0; padding: 0}\n",
       ".list-inline>li {display: inline-block}\n",
       ".list-inline>li:not(:last-child)::after {content: \"\\00b7\"; padding: 0 .5ex}\n",
       "</style>\n",
       "<ol class=list-inline><li>3</li><li>3</li></ol>\n"
      ],
      "text/latex": [
       "\\begin{enumerate*}\n",
       "\\item 3\n",
       "\\item 3\n",
       "\\end{enumerate*}\n"
      ],
      "text/markdown": [
       "1. 3\n",
       "2. 3\n",
       "\n",
       "\n"
      ],
      "text/plain": [
       "[1] 3 3"
      ]
     },
     "metadata": {},
     "output_type": "display_data"
    },
    {
     "data": {
      "text/html": [
       "9"
      ],
      "text/latex": [
       "9"
      ],
      "text/markdown": [
       "9"
      ],
      "text/plain": [
       "[1] 9"
      ]
     },
     "metadata": {},
     "output_type": "display_data"
    },
    {
     "data": {
      "text/html": [
       "<style>\n",
       ".list-inline {list-style: none; margin:0; padding: 0}\n",
       ".list-inline>li {display: inline-block}\n",
       ".list-inline>li:not(:last-child)::after {content: \"\\00b7\"; padding: 0 .5ex}\n",
       "</style>\n",
       "<ol class=list-inline><li>1</li><li>2</li><li>3</li><li>4</li><li>5</li><li>6</li><li>7</li><li>8</li><li>9</li></ol>\n"
      ],
      "text/latex": [
       "\\begin{enumerate*}\n",
       "\\item 1\n",
       "\\item 2\n",
       "\\item 3\n",
       "\\item 4\n",
       "\\item 5\n",
       "\\item 6\n",
       "\\item 7\n",
       "\\item 8\n",
       "\\item 9\n",
       "\\end{enumerate*}\n"
      ],
      "text/markdown": [
       "1. 1\n",
       "2. 2\n",
       "3. 3\n",
       "4. 4\n",
       "5. 5\n",
       "6. 6\n",
       "7. 7\n",
       "8. 8\n",
       "9. 9\n",
       "\n",
       "\n"
      ],
      "text/plain": [
       "[1] 1 2 3 4 5 6 7 8 9"
      ]
     },
     "metadata": {},
     "output_type": "display_data"
    },
    {
     "data": {
      "text/html": [
       "<table>\n",
       "<caption>A matrix: 3 × 3 of type dbl</caption>\n",
       "<thead>\n",
       "\t<tr><th></th><th scope=col>d</th><th scope=col>e</th><th scope=col>f</th></tr>\n",
       "</thead>\n",
       "<tbody>\n",
       "\t<tr><th scope=row>a</th><td>1</td><td>2</td><td>3</td></tr>\n",
       "\t<tr><th scope=row>b</th><td>4</td><td>5</td><td>6</td></tr>\n",
       "\t<tr><th scope=row>c</th><td>7</td><td>8</td><td>9</td></tr>\n",
       "</tbody>\n",
       "</table>\n"
      ],
      "text/latex": [
       "A matrix: 3 × 3 of type dbl\n",
       "\\begin{tabular}{r|lll}\n",
       "  & d & e & f\\\\\n",
       "\\hline\n",
       "\ta & 1 & 2 & 3\\\\\n",
       "\tb & 4 & 5 & 6\\\\\n",
       "\tc & 7 & 8 & 9\\\\\n",
       "\\end{tabular}\n"
      ],
      "text/markdown": [
       "\n",
       "A matrix: 3 × 3 of type dbl\n",
       "\n",
       "| <!--/--> | d | e | f |\n",
       "|---|---|---|---|\n",
       "| a | 1 | 2 | 3 |\n",
       "| b | 4 | 5 | 6 |\n",
       "| c | 7 | 8 | 9 |\n",
       "\n"
      ],
      "text/plain": [
       "  d e f\n",
       "a 1 2 3\n",
       "b 4 5 6\n",
       "c 7 8 9"
      ]
     },
     "metadata": {},
     "output_type": "display_data"
    },
    {
     "data": {
      "text/html": [
       "<style>\n",
       ".list-inline {list-style: none; margin:0; padding: 0}\n",
       ".list-inline>li {display: inline-block}\n",
       ".list-inline>li:not(:last-child)::after {content: \"\\00b7\"; padding: 0 .5ex}\n",
       "</style>\n",
       "<ol class=list-inline><li>'d'</li><li>'e'</li><li>'f'</li></ol>\n"
      ],
      "text/latex": [
       "\\begin{enumerate*}\n",
       "\\item 'd'\n",
       "\\item 'e'\n",
       "\\item 'f'\n",
       "\\end{enumerate*}\n"
      ],
      "text/markdown": [
       "1. 'd'\n",
       "2. 'e'\n",
       "3. 'f'\n",
       "\n",
       "\n"
      ],
      "text/plain": [
       "[1] \"d\" \"e\" \"f\""
      ]
     },
     "metadata": {},
     "output_type": "display_data"
    }
   ],
   "source": [
    "str(matrice1)\n",
    "dim(matrice1)       # restituisce la dimensione tabellare; é l'attributo che permette ad un vettore di essere rappresentato come matrice\n",
    "length(matrice1)    # lunghezza del vettore sottostante (righe * colonne)\n",
    "as.vector(matrice1) # restituisce il vettore sottostante\n",
    "t(matrice1)         # trasposizione della matrice\n",
    "colnames(matrice1) <- c('a', 'b', 'c')   # assegna delle etichette alle colonne della matrice\n",
    "rownames(matrice1) <- c('d', 'e', 'f')   # assegna delle etichette alle righe della matrice\n",
    "rownames(matrice1)  # visualizza le etichette associate alle righe\n",
    "colnames(matrice1)  # visualizza le etichette associate alle colonne"
   ]
  },
  {
   "cell_type": "markdown",
   "id": "immediate-devon",
   "metadata": {},
   "source": [
    "## Fattori\n",
    "\n",
    "Un fattore é un vettore che rappresenta una variabile nominale, cioé contiene un insieme di variabili che puó assumere un insieme di valori fisso e definito"
   ]
  },
  {
   "cell_type": "code",
   "execution_count": 75,
   "id": "steady-tuition",
   "metadata": {},
   "outputs": [
    {
     "data": {
      "text/html": [
       "<style>\n",
       ".list-inline {list-style: none; margin:0; padding: 0}\n",
       ".list-inline>li {display: inline-block}\n",
       ".list-inline>li:not(:last-child)::after {content: \"\\00b7\"; padding: 0 .5ex}\n",
       "</style>\n",
       "<ol class=list-inline><li>a</li><li>b</li><li>a</li><li>a</li><li>b</li></ol>\n",
       "\n",
       "<details>\n",
       "\t<summary style=display:list-item;cursor:pointer>\n",
       "\t\t<strong>Levels</strong>:\n",
       "\t</summary>\n",
       "\t<style>\n",
       "\t.list-inline {list-style: none; margin:0; padding: 0}\n",
       "\t.list-inline>li {display: inline-block}\n",
       "\t.list-inline>li:not(:last-child)::after {content: \"\\00b7\"; padding: 0 .5ex}\n",
       "\t</style>\n",
       "\t<ol class=list-inline><li>'a'</li><li>'b'</li></ol>\n",
       "</details>"
      ],
      "text/latex": [
       "\\begin{enumerate*}\n",
       "\\item a\n",
       "\\item b\n",
       "\\item a\n",
       "\\item a\n",
       "\\item b\n",
       "\\end{enumerate*}\n",
       "\n",
       "\\emph{Levels}: \\begin{enumerate*}\n",
       "\\item 'a'\n",
       "\\item 'b'\n",
       "\\end{enumerate*}\n"
      ],
      "text/markdown": [
       "1. a\n",
       "2. b\n",
       "3. a\n",
       "4. a\n",
       "5. b\n",
       "\n",
       "\n",
       "\n",
       "**Levels**: 1. 'a'\n",
       "2. 'b'\n",
       "\n",
       "\n"
      ],
      "text/plain": [
       "[1] a b a a b\n",
       "Levels: a b"
      ]
     },
     "metadata": {},
     "output_type": "display_data"
    },
    {
     "data": {
      "text/html": [
       "<dl>\n",
       "\t<dt>$levels</dt>\n",
       "\t\t<dd><style>\n",
       ".list-inline {list-style: none; margin:0; padding: 0}\n",
       ".list-inline>li {display: inline-block}\n",
       ".list-inline>li:not(:last-child)::after {content: \"\\00b7\"; padding: 0 .5ex}\n",
       "</style>\n",
       "<ol class=list-inline><li>'a'</li><li>'b'</li></ol>\n",
       "</dd>\n",
       "\t<dt>$class</dt>\n",
       "\t\t<dd>'factor'</dd>\n",
       "</dl>\n"
      ],
      "text/latex": [
       "\\begin{description}\n",
       "\\item[\\$levels] \\begin{enumerate*}\n",
       "\\item 'a'\n",
       "\\item 'b'\n",
       "\\end{enumerate*}\n",
       "\n",
       "\\item[\\$class] 'factor'\n",
       "\\end{description}\n"
      ],
      "text/markdown": [
       "$levels\n",
       ":   1. 'a'\n",
       "2. 'b'\n",
       "\n",
       "\n",
       "\n",
       "$class\n",
       ":   'factor'\n",
       "\n",
       "\n"
      ],
      "text/plain": [
       "$levels\n",
       "[1] \"a\" \"b\"\n",
       "\n",
       "$class\n",
       "[1] \"factor\"\n"
      ]
     },
     "metadata": {},
     "output_type": "display_data"
    },
    {
     "data": {
      "text/html": [
       "'integer'"
      ],
      "text/latex": [
       "'integer'"
      ],
      "text/markdown": [
       "'integer'"
      ],
      "text/plain": [
       "[1] \"integer\""
      ]
     },
     "metadata": {},
     "output_type": "display_data"
    },
    {
     "data": {
      "text/html": [
       "<style>\n",
       ".list-inline {list-style: none; margin:0; padding: 0}\n",
       ".list-inline>li {display: inline-block}\n",
       ".list-inline>li:not(:last-child)::after {content: \"\\00b7\"; padding: 0 .5ex}\n",
       "</style>\n",
       "<ol class=list-inline><li>1</li><li>2</li><li>1</li><li>1</li><li>2</li></ol>\n"
      ],
      "text/latex": [
       "\\begin{enumerate*}\n",
       "\\item 1\n",
       "\\item 2\n",
       "\\item 1\n",
       "\\item 1\n",
       "\\item 2\n",
       "\\end{enumerate*}\n"
      ],
      "text/markdown": [
       "1. 1\n",
       "2. 2\n",
       "3. 1\n",
       "4. 1\n",
       "5. 2\n",
       "\n",
       "\n"
      ],
      "text/plain": [
       "[1] 1 2 1 1 2"
      ]
     },
     "metadata": {},
     "output_type": "display_data"
    },
    {
     "data": {
      "text/html": [
       "<style>\n",
       ".list-inline {list-style: none; margin:0; padding: 0}\n",
       ".list-inline>li {display: inline-block}\n",
       ".list-inline>li:not(:last-child)::after {content: \"\\00b7\"; padding: 0 .5ex}\n",
       "</style>\n",
       "<ol class=list-inline><li>'a'</li><li>'b'</li></ol>\n"
      ],
      "text/latex": [
       "\\begin{enumerate*}\n",
       "\\item 'a'\n",
       "\\item 'b'\n",
       "\\end{enumerate*}\n"
      ],
      "text/markdown": [
       "1. 'a'\n",
       "2. 'b'\n",
       "\n",
       "\n"
      ],
      "text/plain": [
       "[1] \"a\" \"b\""
      ]
     },
     "metadata": {},
     "output_type": "display_data"
    }
   ],
   "source": [
    "cat <- c('a', 'b', 'a', 'a', 'b')\n",
    "nominale <- factor(cat)                      # se non esplicitamente dichiarato, i livelli sono ordinati alfabeticamente\n",
    "nominale\n",
    "ordinale <- factor(cat, levels=c('a', 'b'))  # definisce implicitamente l'ordine dei fattori\n",
    "\n",
    "attributes(nominale)\n",
    "typeof(nominale)\n",
    "as.integer(nominale)                         # integer perché gli interi mappano l'indice con il corrispondente livellob\n",
    "levels(nominale)                             # estrae i possibili valori di categori"
   ]
  },
  {
   "cell_type": "markdown",
   "id": "superb-photography",
   "metadata": {},
   "source": [
    "## Liste\n",
    "\n",
    "E' una collezione ordinata ed eterogenea di oggetti anche complessi; una lista puó contenere anche liste, quindi permette la costruzione di strutture ad albero"
   ]
  },
  {
   "cell_type": "code",
   "execution_count": 81,
   "id": "embedded-print",
   "metadata": {},
   "outputs": [
    {
     "name": "stdout",
     "output_type": "stream",
     "text": [
      "List of 3\n",
      " $ matrice: num [1, 1:3] 1 2 3\n",
      " $        : chr \"ciao\"\n",
      " $ vettore: chr [1:2] \"a\" \"b\"\n"
     ]
    }
   ],
   "source": [
    "lista <- list(\n",
    "    matrice=matrix(c(1,2,3), nrow=1, ncol=3),\n",
    "    'ciao',\n",
    "    vettore=c('a', 'b')\n",
    ")\n",
    "str(lista)"
   ]
  },
  {
   "cell_type": "markdown",
   "id": "rapid-portal",
   "metadata": {},
   "source": [
    "## Data frame\n",
    "\n",
    "E' una lista di vettore, fattori o matrici di uguale lunghezza; puó essere visto come una matrice dove i vettori costituiscono le colonne; a differenza delle matrici, dove tutti gli elementi devono essere dello stesso tipo, ciascun vettore puó essere di tipo diverso"
   ]
  },
  {
   "cell_type": "code",
   "execution_count": 86,
   "id": "satisfactory-deficit",
   "metadata": {},
   "outputs": [
    {
     "name": "stdout",
     "output_type": "stream",
     "text": [
      "'data.frame':\t3 obs. of  3 variables:\n",
      " $ a: num  1 2 3\n",
      " $ b: chr  \"a\" \"b\" \"c\"\n",
      " $ c: logi  TRUE FALSE NA\n"
     ]
    }
   ],
   "source": [
    "a <- c(1,2,3)\n",
    "b <- c('a', 'b', 'c')\n",
    "c <- c(TRUE, FALSE, NA)\n",
    "\n",
    "df <- data.frame(a,b,c)\n",
    "str(df)"
   ]
  }
 ],
 "metadata": {
  "kernelspec": {
   "display_name": "R",
   "language": "R",
   "name": "ir"
  },
  "language_info": {
   "codemirror_mode": "r",
   "file_extension": ".r",
   "mimetype": "text/x-r-source",
   "name": "R",
   "pygments_lexer": "r",
   "version": "4.0.3"
  }
 },
 "nbformat": 4,
 "nbformat_minor": 5
}
